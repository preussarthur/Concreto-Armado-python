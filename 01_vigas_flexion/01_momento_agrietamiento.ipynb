{
 "cells": [
  {
   "cell_type": "markdown",
   "metadata": {},
   "source": [
    "## Momento de Agrietamiento"
   ]
  },
  {
   "cell_type": "markdown",
   "metadata": {},
   "source": [
    "### Ejercicio.\n",
    "1) Suponiendo que el concreto no está agrietado, calcular los esfuerzos de flexión en las fibras extremas de la viga de la Figura para un momento flexionante de 25 pie-klb. El concreto de peso normal tiene un $f'_c = 4000 \\hspace{0.1cm} lb/plg^2 $ y un módulo de ruptura de $f_r = 7.5(1.0)\\sqrt{4000} \\hspace{0.1cm}lb/plg^2 = 474  \\hspace{0.1cm}lb/plg^2.$\n",
    "\n",
    "\n",
    "2) Determine el momento de agrietamiento de la sección."
   ]
  },
  {
   "cell_type": "markdown",
   "metadata": {},
   "source": [
    "<img src=\"img/fig_1.png\" width=\"300\">"
   ]
  },
  {
   "cell_type": "code",
   "execution_count": 6,
   "metadata": {
    "hideCode": true,
    "hideOutput": true
   },
   "outputs": [],
   "source": [
    "# importamos las librerias necesarias, iniciamos las variables\n",
    "from IPython.display import Latex as lt\n",
    "b = 12\n",
    "h = 18\n",
    "M = 25000\n",
    "y = h / 2\n",
    "fr = 474"
   ]
  },
  {
   "cell_type": "markdown",
   "metadata": {
    "hideCode": false,
    "hideOutput": false
   },
   "source": [
    "#### Solución.\n",
    "1. Esfuerzos a flexión"
   ]
  },
  {
   "cell_type": "code",
   "execution_count": 15,
   "metadata": {
    "hideCode": true,
    "hideOutput": false
   },
   "outputs": [
    {
     "data": {
      "text/latex": [
       "$$ f = \\frac{12 \\times 25000 \\times 9.0}{5832.0} = 462.96 \\hspace{0.1cm}lb/plg^2$$"
      ],
      "text/plain": [
       "<IPython.core.display.Latex object>"
      ]
     },
     "execution_count": 15,
     "metadata": {},
     "output_type": "execute_result"
    }
   ],
   "source": [
    "Ig = b * h ** 3 / 12\n",
    "f = 12*M * y / Ig\n",
    "lt(r\"$$ f = \\frac{12 \\times %s \\times %s}{%s} = %s \\hspace{0.1cm}lb/plg^2$$\" %(M,y,Ig,round(f,2)))"
   ]
  },
  {
   "cell_type": "code",
   "execution_count": 21,
   "metadata": {
    "hideCode": true
   },
   "outputs": [
    {
     "name": "stdout",
     "output_type": "stream",
     "text": [
      "La sección no se agrieta.\n"
     ]
    }
   ],
   "source": [
    "print(\"La sección no se agrieta.\" if f < fr else \"La sección se agrieta.\")"
   ]
  },
  {
   "cell_type": "markdown",
   "metadata": {},
   "source": [
    "2. Momento de Agrietamiento"
   ]
  },
  {
   "cell_type": "code",
   "execution_count": 20,
   "metadata": {
    "hideCode": true
   },
   "outputs": [
    {
     "data": {
      "text/latex": [
       "$$ M_{cr} = \\frac{ f_r \\times I_g}{y_t} =  \\frac{ 474 \\times 5832.0}{9.0} = 307152.0 \\hspace{0.1cm}plg-lb$$"
      ],
      "text/plain": [
       "<IPython.core.display.Latex object>"
      ]
     },
     "execution_count": 20,
     "metadata": {},
     "output_type": "execute_result"
    }
   ],
   "source": [
    "Mcr = fr * Ig / y\n",
    "lt(r\"$$ M_{cr} = \\frac{ f_r \\times I_g}{y_t} =  \\frac{ %s \\times %s}{%s} = %s \\hspace{0.1cm}plg-lb$$\" %(fr,Ig,y,round(Mcr,2)))"
   ]
  }
 ],
 "metadata": {
  "kernelspec": {
   "display_name": "Python 3",
   "language": "python",
   "name": "python3"
  },
  "language_info": {
   "codemirror_mode": {
    "name": "ipython",
    "version": 3
   },
   "file_extension": ".py",
   "mimetype": "text/x-python",
   "name": "python",
   "nbconvert_exporter": "python",
   "pygments_lexer": "ipython3",
   "version": "3.8.5"
  }
 },
 "nbformat": 4,
 "nbformat_minor": 4
}
